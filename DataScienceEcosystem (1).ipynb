{
 "cells": [
  {
   "cell_type": "markdown",
   "id": "21fcd17a",
   "metadata": {},
   "source": [
    "# Data Science Tools and Ecosystem"
   ]
  },
  {
   "cell_type": "markdown",
   "id": "7c9e414a",
   "metadata": {},
   "source": [
    "In this notebook, Data Science Tools and Ecosystem are summarized. "
   ]
  },
  {
   "cell_type": "markdown",
   "id": "d1dc09c2",
   "metadata": {},
   "source": [
    "Some of the popular languages that Data Scientist use are: \n",
    "1. Python\n",
    "2. SQL\n",
    "3. R\n",
    "4. C++"
   ]
  },
  {
   "cell_type": "markdown",
   "id": "fdaaa076",
   "metadata": {},
   "source": [
    "Some of the commonly used libraries used by Data Scientists include: \n",
    "1. Pandas\n",
    "2. Matplotlib\n",
    "3. Seaborn"
   ]
  },
  {
   "cell_type": "markdown",
   "id": "7251c705",
   "metadata": {},
   "source": [
    "| Data Science Tools    |\n",
    "|-----------------------|\n",
    "| Jupyter               |\n",
    "| RStudio               |\n",
    "| Visual Studio Code    |"
   ]
  },
  {
   "cell_type": "markdown",
   "id": "866734d7",
   "metadata": {},
   "source": [
    "Below are a few examples of evaluating arithmetic expressions in Python. "
   ]
  },
  {
   "cell_type": "code",
   "execution_count": 3,
   "id": "41bb302f",
   "metadata": {},
   "outputs": [
    {
     "data": {
      "text/plain": [
       "17"
      ]
     },
     "execution_count": 3,
     "metadata": {},
     "output_type": "execute_result"
    }
   ],
   "source": [
    "#This is a simple arithmetic expression to multiply then add integers\n",
    "(3*4)+5"
   ]
  },
  {
   "cell_type": "code",
   "execution_count": 4,
   "id": "c554650a",
   "metadata": {},
   "outputs": [
    {
     "data": {
      "text/plain": [
       "3.3333333333333335"
      ]
     },
     "execution_count": 4,
     "metadata": {},
     "output_type": "execute_result"
    }
   ],
   "source": [
    "#This will convert 200 minutes to hours by dividing by 60\n",
    "200/60"
   ]
  },
  {
   "cell_type": "markdown",
   "id": "074fdaf3",
   "metadata": {},
   "source": [
    "### Objectives:\n",
    "- List popular languages for Data Science\n",
    "- List commonly used packages for Data Science\n",
    "- List common Data Science tools"
   ]
  },
  {
   "cell_type": "markdown",
   "id": "f9b6152b",
   "metadata": {},
   "source": [
    "## Author\n",
    "Jorge"
   ]
  },
  {
   "cell_type": "code",
   "execution_count": null,
   "id": "f6191ec2",
   "metadata": {},
   "outputs": [],
   "source": []
  }
 ],
 "metadata": {
  "kernelspec": {
   "display_name": "Python 3 (ipykernel)",
   "language": "python",
   "name": "python3"
  },
  "language_info": {
   "codemirror_mode": {
    "name": "ipython",
    "version": 3
   },
   "file_extension": ".py",
   "mimetype": "text/x-python",
   "name": "python",
   "nbconvert_exporter": "python",
   "pygments_lexer": "ipython3",
   "version": "3.11.5"
  }
 },
 "nbformat": 4,
 "nbformat_minor": 5
}
